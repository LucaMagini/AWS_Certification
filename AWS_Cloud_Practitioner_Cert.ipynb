{
  "nbformat": 4,
  "nbformat_minor": 0,
  "metadata": {
    "colab": {
      "provenance": [],
      "collapsed_sections": [
        "oTvNzYU3qDf4",
        "Bh0x1O9lVIMf",
        "wXx0MoA1m0K8"
      ]
    },
    "kernelspec": {
      "name": "python3",
      "display_name": "Python 3"
    },
    "language_info": {
      "name": "python"
    }
  },
  "cells": [
    {
      "cell_type": "markdown",
      "source": [
        "# AWS CLOUD PRACTITIONER CERTIFICATION"
      ],
      "metadata": {
        "id": "F4RJsDZXp0-n"
      }
    },
    {
      "cell_type": "markdown",
      "source": [
        "## 1. WHAT IS CLOUD COMPUTING?"
      ],
      "metadata": {
        "id": "oTvNzYU3qDf4"
      }
    },
    {
      "cell_type": "markdown",
      "source": [
        "**SERVER**\n",
        "* CPU (Compute)\n",
        "* RAM (Memory)\n",
        "* Data (Storage) \n",
        "* Database (Store data in structured way)\n",
        "* Network (Cables, routers and servers connected with each other)\n",
        "* Router (A networking device that forwards data packets between computer networks. They know where to send your packets on the internet)\n",
        "* Switch (Takes a packet and send it to the correct server/client on your network)\n",
        "\n",
        "<br>\n",
        "\n",
        "**PROBLEMS WITH TRADITIONAL IT APPROACH**\n",
        "* Pay for the rent for the data center\n",
        "* Pay for power supply, cooling, maintenance \n",
        "* Adding and replacing hardware takes time\n",
        "* Scaling is limited \n",
        "* Hire 24/7 team to monitor the infrastructure \n",
        "* How to deal with disasters? (earthquake, power shutdown, fire)\n",
        "\n",
        "<br>\n",
        "\n",
        "**CLOUD COMPUTING**\n",
        "* On demand delivery of compute power, database storage, applications, IT services\n",
        "* Pay-as-you-go pricing  \n",
        "* Provision exactly the right type and size of computing resources you need\n",
        "* Access many resources as you need, almost instantly\n",
        "* Simply way to access servers, storage, databases abd set of application services\n",
        "\n",
        "<br>\n",
        "\n",
        "**DEPLOYMENT MODELS OF THE CLOUD**\n",
        "* *PRIVATE CLOUD*: \n",
        "  * Cloud used by single organization, not exposed to the public\n",
        "  * Complete control\n",
        "  * Security for sensitive application\n",
        "  * Meet specific business needs\n",
        "* *PUBLIC CLOUD*:\n",
        "  * Cloud resources owned and operated by a third-part cloud service provider delivered on the internet\n",
        "  * 6 advantages of cloud computing  \n",
        "* *HYBRID CLOUD*:\n",
        "  * Keep some servers on premises and extend some capabilities to the cloud\n",
        "  * Control over sensitive assets in your private infrastructure\n",
        "  * Flexibility and cost effectiveness of the public cloud  \n",
        "\n",
        "<br>\n",
        "\n",
        "**THE 5 CHARACTERISTICS OF CLOUD COMPUTING** \n",
        "* *On demand self service*: Users can provision resources and use them without human interaction from the service provider\n",
        "* *Broad network access*: Resources available over the network\n",
        "* *Multi-tenancy and resource pooling*: Multiple customers can share the same infrastructure with security and privacy and they are serviced from the same physical resources\n",
        "* *Rapid elasticity and scalability*: Automatically and quickly acquire and dispose resources when needed and easily scale based on demand\n",
        "* *Measured service*: Usage is measured, users pay correctly for what they have used\n",
        "\n",
        "<br>\n",
        "\n",
        "**THE 6 ADVANTAGES OF CLOUD COMPUTING**\n",
        "* *Trade capital expense (CAPEX) for operational enpense (OPEX)*: Pay on demand, don't own hardware and reduce total cost of ownership\n",
        "* *Benefit from massive economies of scale*: Prices are reduced as AWS is more efficient due to large scale\n",
        "* *Stop guessing capacity*: Scale based on actual measured usage\n",
        "* *Increase speed and agility*\n",
        "* *Stop spending money running and maintaining data centers*\n",
        "* *Go global in minutes*\n",
        "\n",
        "<br>\n",
        "\n",
        "**PROBLEMS SOLVED BY THE CLOUD**\n",
        "* *Flexibility*: Change resource types when needed\n",
        "* *Cost-Effectiveness*: Pay as you go for what you use\n",
        "* *Scalability*: Accomodate larger loads by making hardware stronger or adding additional nodes\n",
        "* *Elasticity*: Ability to scale out and scale-in when needed\n",
        "* *High available and fault tolerance*: Build across data centers\n",
        "* *Agility*: Rapidly develop, test and launch software application\n",
        "\n",
        "<br>\n",
        "\n",
        "**TYPES OF CLOUD COMPUTING**\n",
        "* *Infrastructure as a Service (EC2)*:\n",
        "  * Provide bulding blocks for cloud IT\n",
        "  * Provides networking, computers, data storage space\n",
        "  * Highest level of flexibility\n",
        "  * Easy parallel with traditional on-premises IT\n",
        "* *Platform as a Service (Elastic Beanstalk)*:\n",
        "  * Removes the need for your organization to manage the underlying infrastructure\n",
        "  * Focus on the deployment and management of your applications\n",
        "* *Software as a Service (Rekognition, Google Maps)*:\n",
        "  * Completed product that is run and managed by the service provider\n",
        "\n",
        "<br>\n",
        "\n",
        "**PRICING OF THE CLOUD**\n",
        "* *Compute*: Pay for compute time\n",
        "* *Storage*: Pay for data stored in the Cloud\n",
        "* *Data Transfer OUT*: Data transfer IN is free\n",
        "\n",
        "<br>\n",
        "\n",
        "**AWS GLOBAL INFRASTRUCTURE**\n",
        "* *AWS REGION*\n",
        "  * Region all around the world (us-east-1, eu-west-3)\n",
        "  * Cluster of data centers\n",
        "  * Most AWS services are region-scoped (*IAM*, *Route 53*, *WAF*: examples of global services)\n",
        "  * Choose the region according to the data governance and legal requirements\n",
        "  * Proximity to customers to reduce latency\n",
        "  * Available services within a region\n",
        "  * Pricing which can vary from a region to another\n",
        "\n",
        "<br>\n",
        "\n",
        "* *AWS AVAILABILITY ZONES*\n",
        "  * Each region has many availability zones (min 2, max 6, usually 3)\n",
        "  * Each AZ is one or more discrete ddata ccenters with redundant power\n",
        "  * They're isolated from disasters\n",
        "  * They're connected with high bandwidth, ultra-low latency\n",
        "\n",
        "<br>\n",
        "\n",
        "* *AWS POINT OF PRESENCE (EDGE LOCATIONS)*\n",
        "  * Amazon has 216 points of presencein 84 cities and 42 countries\n",
        "  * Content is delivered to end user with lower latency  \n",
        "\n",
        "\n"
      ],
      "metadata": {
        "id": "8ESmSpVVqMhF"
      }
    },
    {
      "cell_type": "markdown",
      "source": [
        "## 2. IAM SECTION"
      ],
      "metadata": {
        "id": "Bh0x1O9lVIMf"
      }
    },
    {
      "cell_type": "markdown",
      "source": [
        "**IAM: Identity and Access Management**\n",
        "* *USERS*: They are people within your organization and can be grouped. There is a root account created by default and it shouldn't be used or shared.\n",
        "* *GROUPS*: They only contains users, not other groups and users don't have to belong to a group and can belong to multiple groups.\n",
        "* *POLICIES*: Users or groups can be assigned JSON documents called policies. These policies define the permission of the users. In AWS you apply the least privilege principle, don't give more permission than a user needs.\n",
        "* *SECURITY*: Password policy + MFA (Multi Factor Authentication).\n",
        "* *AWS CLI*: Manage your AWS services by the command line. Direct access to the public APIs of AWS services. Alternative to AWS Management Console.\n",
        "* *AWS SDK*: Manage your AWS services using a programming language (Software Development Kit) with language specific APIs.\n",
        "* *Access Keys*: To access AWS using the CLI or SDK. They are generated through the AWS Management Console and they are like a password.\n",
        "* *IAM ROLES*: They are just like a user but they are intended to be used not by physical people but instead they will be used by AWS services that need to perform actions on your behalf (EC2, Lambda).\n",
        "* *IAM SECURITY TOOLS*: IAM Credentials Report that lists all your account's users and the status of the various credentials and IAM Access Advisor which shows the service permissions granted to a userand when those services were last accessed. "
      ],
      "metadata": {
        "id": "c6tLgrePVUa5"
      }
    },
    {
      "cell_type": "markdown",
      "source": [
        "## 3. EC2 SECTION"
      ],
      "metadata": {
        "id": "wXx0MoA1m0K8"
      }
    },
    {
      "cell_type": "markdown",
      "source": [
        "**EC2: Elastic Compute Cloud**\n",
        "\n",
        "<br>\n",
        "\n",
        "**EC2**\n",
        "\n",
        "It mainly consists in the capability of:\n",
        "* Renting virtual machines (EC2)\n",
        "* Storing data on virtual drives (EBS)\n",
        "* Distributing load across machines (ELB)\n",
        "* Scaling the services using an auto-scaling group (ASG)\n",
        "\n",
        "**EC2 Configuration**\n",
        "* Operating System: Linux, Windows or MacOS\n",
        "* How much compute power & cores (CPU)\n",
        "* How much random-access memory (RAM)\n",
        "* How much storage space:\n",
        "  * Network attached (EBS & EFS)\n",
        "  * Hardware (EC2 Instance Store)\n",
        "* Network Card: speed of the card, Public IP address\n",
        "* Bootstrap script (configure at first launch): EC2 User Data  \n",
        "\n",
        "**EC2 Instance Types**\n",
        "\n",
        "* m5.2xlarge (e.g.):\n",
        "  * *m*: Instance class\n",
        "  * *5*: Generation (AWS improves over time)\n",
        "  * *2xlarge*: Size within the instance class\n",
        "* *General Purpose*: Great for a diversity of workloads such as web servers or code repositories. Balance between compute, memory and networking.\n",
        "* *Compute Optimized*: Great for compute intensive tasks that require high performance processors as batch processing workloads, scientific model and machine learning or gaming servers.\n",
        "* *Memory Optimized*: Fast performance for workloads that process large data sets in memory as high perf relational/non-relational databases or distributed web scale cache stores.\n",
        "* *Storage Optimized*: Great for storage intensive tasks that require high, sequential read and write access to large data sets on local storage as cache for in memory databases (Redis).\n",
        "\n",
        "**EC2 Security Groups**\n",
        "\n",
        "Security groups are acting as a firewall on EC2 instances, they control how traffic is allowed into or out our EC\" instances. Security groups only contain allow rules and can reference by IP or by security group. They regulate:\n",
        "\n",
        "* Access to ports\n",
        "* Authorized IP ranges - IPv4 and IPv6\n",
        "* Control of inbound network (from other to instance, blocked by default)\n",
        "* Control of outbound network (from instance to other, authorized by default)\n",
        "\n",
        "**EC2 User Data**\n",
        "\n",
        "It's possible to bootstrap (launching commands when a machine start) ourinstances using an EC2 User Data script. That script is only run once at the instance first start and it run with the root user. It's used to automate boot tasks such as:\n",
        "* Installing updates\n",
        "* Installing software\n",
        "* Downloading common files from internet\n",
        "* Anything you can think of\n",
        "\n",
        "**SSH**\n",
        "\n",
        "It allows you to control a remote machine, all using the command line. We can configure all the parameters using the free tool \"Putty\".\n",
        "\n",
        "**Purchasing Options**\n",
        "\n",
        "* *EC2 On-Demand Instances*: Linux/Windows billing per seconds after the first minute, otherwise billing per hour. Has the highest cost but no upfront payment. No long-term commitment and recommended for short term and un-interrupted workloads.\n",
        "* *EC2 Reserved Instances*: Uo to 72% discount (compared to on-demand). You reserve a specific instance attributes (instance type, region, tenancy, OS) with a reservation period of 1 or 3 years with different payment options:\n",
        "  * No Upfront (+)\n",
        "  * Partial Upfront (++)\n",
        "  * All Upfront (+++)\n",
        "You can reserve an instance scope, regional or zonal and it's recommended for steady-state usage applications (db) and you can buy and sell in the Reserved Instance Marketplace.\n",
        "* *EC2 Convertible Reserved Instance*: Can change EC2 instance type, instance family, OS, scope and tenancy and you can get up to 66% of discount.\n",
        "* *EC2 Saving Plans*: Get a discount based on long-term usage and commit to a certain type of usage (e.g. $10/hour for 1/3 years), usage beyond EC\" Saving Plans is billed at the on-demand rate. It's flexible across instance size, OS and tenancy.\n",
        "* *EC2 Spot Instances*: Instances that you can lose at any point of time if your max price is less than the current spot price. It's the most cost-efficient instances in AWS and you can get a discount of up to 90% compared to on-demand. It's useful for workload that are resilient to failure as batch jobs, data analysis or image processing and it's not suitable for critical jobs or databases.\n",
        "* *EC2 Dedicated Hosts*: A physical server with EC2 instance capacity fully dedicated to your use, that's the most expensive option. Purchasing option:\n",
        "  * On-demand: pay per second for active Dedicated Host\n",
        "  * Reserved: 1 or 3 years (No/Partial/All Upfront)\n",
        "* *EC2 Dedicated Instances*: Instance run on hardware that's decicated to you, you may share hardware with other instances in same account and there is no control over instance placement (can move hardware after stop/start).  \n",
        "* *EC2 Capacity Reservations*: Reserve on-demand instances capacity in a specific AZ for any duration. No time commitment or billing discount. You are charged at on-demand rate whether you run instances or not. Suitable for short term, uninterrupted workloads that needs to be in a specific AZ.\n",
        "\n",
        "**Best Purchasing Option**\n",
        "\n",
        "* *On-Demand*: Coming and staying in resort whenever we like, we pay the full price\n",
        "* *Reserved*: Like planning ahead and if we plan to stay for a long time, we may get a good discount.\n",
        "* *Saving Plans*: Pay a certain amount per hour for certain period and stay in any room type (e.g. King, Suite, Sea View, etc...)\n",
        "* *Spot Instances*: The hotel allows people to bid for the empty rooms and the highest bidder keeps the rooms. You can get kicked out at any time.\n",
        "* *Dedicated Host*: We book an entire building of the resort.\n",
        "* *Capacity Reservations*: You book a room for a period with full price even you don't stay in it.\n",
        "\n",
        "\n"
      ],
      "metadata": {
        "id": "6Uy6I3U0m60W"
      }
    },
    {
      "cell_type": "markdown",
      "source": [
        "## 4. EC2 INSTANCE STORAGE "
      ],
      "metadata": {
        "id": "LenrMJf2DkI0"
      }
    },
    {
      "cell_type": "markdown",
      "source": [],
      "metadata": {
        "id": "uM_sQWFjDo8I"
      }
    }
  ]
}